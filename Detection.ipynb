{
 "cells": [
  {
   "cell_type": "code",
   "execution_count": 1,
   "metadata": {},
   "outputs": [
    {
     "name": "stderr",
     "output_type": "stream",
     "text": [
      "CUDA not available - defaulting to CPU. Note: This module is much faster with a GPU.\n"
     ]
    }
   ],
   "source": [
    "import os\n",
    "from datetime import datetime\n",
    "import time\n",
    "from sklearn.model_selection import train_test_split\n",
    "import pandas as pd\n",
    "import torch\n",
    "import numpy as np\n",
    "import cv2\n",
    "import easyocr\n",
    "reader = easyocr.Reader(['en'])\n",
    "\n"
   ]
  },
  {
   "cell_type": "code",
   "execution_count": 2,
   "metadata": {},
   "outputs": [
    {
     "name": "stderr",
     "output_type": "stream",
     "text": [
      "Downloading: \"https://github.com/ultralytics/yolov5/zipball/master\" to C:\\Users\\akhas/.cache\\torch\\hub\\master.zip\n",
      "YOLOv5  2022-12-28 Python-3.10.0 torch-1.13.1+cpu CPU\n",
      "\n",
      "Fusing layers... \n",
      "Model summary: 213 layers, 7015519 parameters, 0 gradients\n",
      "Adding AutoShape... \n",
      "Downloading: \"https://github.com/ultralytics/yolov5/zipball/master\" to C:\\Users\\akhas/.cache\\torch\\hub\\master.zip\n",
      "YOLOv5  2022-12-28 Python-3.10.0 torch-1.13.1+cpu CPU\n",
      "\n",
      "Fusing layers... \n",
      "Model summary: 213 layers, 7026307 parameters, 0 gradients\n",
      "Adding AutoShape... \n"
     ]
    }
   ],
   "source": [
    "Num_model = torch.hub.load(r'ultralytics/yolov5', 'custom', path=r'C:\\Users\\akhas\\Desktop\\Project\\Num_net.pt', force_reload=True)\n",
    "Vehicle_model = torch.hub.load(r'ultralytics/yolov5', 'custom', path=r'C:\\Users\\akhas\\Desktop\\Project\\Vehicle_NET.pt', force_reload=True)"
   ]
  },
  {
   "cell_type": "code",
   "execution_count": 6,
   "metadata": {},
   "outputs": [],
   "source": [
    "def read_num(model,frame):\n",
    "  classes = model.names\n",
    "  def class_to_label(x):     \n",
    "       return classes[int(x)]   \n",
    "  results = model(frame)\n",
    "  labels, cord = results.xyxyn[0][:, -1], results.xyxyn[0][:, :-1]\n",
    "  n = len(labels)\n",
    "  x_shape, y_shape = frame.shape[1], frame.shape[0]\n",
    "  for i in range(n):\n",
    "        row = cord[i]\n",
    "        if row[4] > 0.8:\n",
    "                x1, y1, x2, y2 = int(row[0]*x_shape), int(row[1]*y_shape), int(row[2]*x_shape), int(row[3]*y_shape)\n",
    "                bgr = (225, 0, 225)\n",
    "                              \n",
    "                crop = frame[y1:y2, x1:x2]                \n",
    "                gray = cv2.cvtColor(crop, cv2.COLOR_BGR2GRAY)\n",
    "                gray = cv2.resize( gray, None, fx = 7, fy = 7, interpolation = cv2.INTER_CUBIC)  \n",
    "                ret, thresh1 = cv2.threshold(gray, 90, 250, cv2.THRESH_BINARY)\n",
    "                results = reader.readtext(thresh1)\n",
    "                print(results)\n",
    "                for (bbox, text, prob) in results:\n",
    "                   print(\"[INFO] {:.4f}: {}\".format(prob, text)) \n",
    "                return [text,prob]\n",
    "                \n",
    "                #cv2.putText(frame,class_to_label(results.xyxyn[0][:, -1][i]),(x1, y1), cv2.FONT_HERSHEY_SIMPLEX, 2, bgr, 4)\n",
    "    \n",
    "    "
   ]
  },
  {
   "cell_type": "code",
   "execution_count": 9,
   "metadata": {},
   "outputs": [],
   "source": [
    "def process_image(model,frame):\n",
    "  classes = model.names\n",
    "  def class_to_label(x):     \n",
    "       return classes[int(x)]  \n",
    "  results = model(frame)\n",
    "  labels, cord = results.xyxyn[0][:, -1], results.xyxyn[0][:, :-1]\n",
    "  n = len(labels)\n",
    "  x_shape, y_shape = frame.shape[1], frame.shape[0]\n",
    "  for i in range(n):\n",
    "        row = cord[i]\n",
    "        if row[4] > 0.5:\n",
    "                x1, y1, x2, y2 = int(row[0]*x_shape), int(row[1]*y_shape), int(row[2]*x_shape), int(row[3]*y_shape)\n",
    "                bgr = (225, 0, 225)\n",
    "                cv2.rectangle(frame, (x1, y1), (x2, y2), bgr, 4)  \n",
    "                \n",
    "                crop = frame[y1:y2, x1:x2]\n",
    "\n",
    "                num = read_num(Num_model,crop)\n",
    "\n",
    "                lab = class_to_label(results.xyxyn[0][:, -1][i])\n",
    "                #string = lab+\"        \"+num[0]+num[1]\n",
    "                #print(lab)\n",
    "                #print(num)\n",
    "               \n",
    "\n",
    "                cv2.putText(frame,lab,(x1, y1), cv2.FONT_HERSHEY_SIMPLEX, 2, bgr, 4)\n",
    "                resized_img = cv2.resize(frame,(480,720))\n",
    "                \n",
    "\n",
    "                cv2.imshow('image',resized_img)\n",
    "                cv2.waitKey(1)\n",
    "                \n",
    "                \n",
    "               # if cv2.waitKey(1) == 2:\n",
    "                 #  break "
   ]
  },
  {
   "attachments": {},
   "cell_type": "markdown",
   "metadata": {},
   "source": []
  },
  {
   "cell_type": "code",
   "execution_count": 10,
   "metadata": {},
   "outputs": [
    {
     "name": "stdout",
     "output_type": "stream",
     "text": [
      "[([[117, 34], [512, 34], [512, 127], [117, 127]], '~,C :<', 0.14622928181815506)]\n",
      "[INFO] 0.1462: ~,C :<\n",
      "[([[130, 38], [535, 38], [535, 134], [130, 134]], '1, C :82,', 0.13334679490638032)]\n",
      "[INFO] 0.1333: 1, C :82,\n",
      "[([[123, 35], [538, 35], [538, 137], [123, 137]], '~C :85', 0.10683442570927956)]\n",
      "[INFO] 0.1068: ~C :85\n",
      "[([[122, 40], [537, 40], [537, 140], [122, 140]], 'LG :589', 0.17904363055870504)]\n",
      "[INFO] 0.1790: LG :589\n",
      "[([[124, 40], [536, 40], [536, 140], [124, 140]], 'L6 :55)', 0.09925736973860748)]\n",
      "[INFO] 0.0993: L6 :55)\n",
      "[([[183, 40], [544, 40], [544, 141], [183, 141]], '76:58', 0.23705700278452724)]\n",
      "[INFO] 0.2371: 76:58\n",
      "[([[100, 46], [545, 46], [545, 145], [100, 145]], 'N :: 5 :589', 0.14543453620287913)]\n",
      "[INFO] 0.1454: N :: 5 :589\n",
      "[([[70, 43], [543, 43], [543, 145], [70, 145]], '{n :! G :5S,', 0.0615242536763107)]\n",
      "[INFO] 0.0615: {n :! G :5S,\n",
      "[([[64, 47], [557, 47], [557, 156], [64, 156]], '{NJ: G :55,', 0.10381025566104533)]\n",
      "[INFO] 0.1038: {NJ: G :55,\n",
      "[([[66, 39], [565, 39], [565, 151], [66, 151]], '{J}s :SS;', 0.02981841746781029)]\n",
      "[INFO] 0.0298: {J}s :SS;\n",
      "[([[78, 46], [587, 46], [587, 158], [78, 158]], '0;g :SS,', 0.009176892484688531)]\n",
      "[INFO] 0.0092: 0;g :SS,\n",
      "[([[61, 32], [594, 32], [594, 152], [61, 152]], 'T:G :9,', 0.014110905510209496)]\n",
      "[INFO] 0.0141: T:G :9,\n",
      "[([[61, 32], [594, 32], [594, 152], [61, 152]], 'T^:G :59,', 0.03936278835149224)]\n",
      "[INFO] 0.0394: T^:G :59,\n",
      "[([[75, 33], [609, 33], [609, 159], [75, 159]], '70 j :5,', 0.041034390436146824)]\n",
      "[INFO] 0.0410: 70 j :5,\n",
      "[([[75, 33], [609, 33], [609, 159], [75, 159]], '70 j :5,', 0.041034390436146824)]\n",
      "[INFO] 0.0410: 70 j :5,\n",
      "[([[118, 42], [621, 42], [621, 156], [118, 156]], '4 :3 3{3', 0.05181629453409635)]\n",
      "[INFO] 0.0518: 4 :3 3{3\n",
      "[([[127, 40], [621, 40], [621, 163], [127, 163]], 'L:5:M', 0.06637199456585734)]\n",
      "[INFO] 0.0664: L:5:M\n",
      "[([[127, 42], [622, 42], [622, 162], [127, 162]], 'L:j::', 0.12015375879972569)]\n",
      "[INFO] 0.1202: L:j::\n",
      "[([[167, 49], [641, 49], [641, 171], [167, 171]], 'L:3:;', 0.2053736630202785)]\n",
      "[INFO] 0.2054: L:3:;\n",
      "[([[156, 54], [634, 54], [634, 168], [156, 168]], \"':5325\", 0.3341071008379196)]\n",
      "[INFO] 0.3341: ':5325\n",
      "[([[165, 47], [673, 47], [673, 175], [165, 175]], '1:j:;', 0.0959458402945402)]\n",
      "[INFO] 0.0959: 1:j:;\n"
     ]
    }
   ],
   "source": [
    "cap = cv2.VideoCapture('video.mp4')\n",
    "while(cap.isOpened()):\n",
    "  ret, frame = cap.read()  \n",
    "  if ret == True:\n",
    "    process_image(Vehicle_model,frame)\n",
    "  \n"
   ]
  },
  {
   "cell_type": "code",
   "execution_count": null,
   "metadata": {},
   "outputs": [],
   "source": [
    "!wget https://developer.nvidia.com/compute/cuda/9.2/Prod/local_installers/cuda-repo-ubuntu1604-9-2-local_9.2.88-1_amd64 -O cuda-repo-ubuntu1604-9-2-local_9.2.88-1_amd64.deb\n",
    "!wdpkg -i cuda-repo-ubuntu1604-9-2-local_9.2.88-1_amd64.deb\n",
    "!wapt-key add /var/cuda-repo-9-2-local/7fa2af80.pub\n",
    "!wapt-get update\n",
    "!wapt-get install cuda"
   ]
  }
 ],
 "metadata": {
  "kernelspec": {
   "display_name": "Python 3",
   "language": "python",
   "name": "python3"
  },
  "language_info": {
   "codemirror_mode": {
    "name": "ipython",
    "version": 3
   },
   "file_extension": ".py",
   "mimetype": "text/x-python",
   "name": "python",
   "nbconvert_exporter": "python",
   "pygments_lexer": "ipython3",
   "version": "3.10.0"
  },
  "orig_nbformat": 4,
  "vscode": {
   "interpreter": {
    "hash": "369f2c481f4da34e4445cda3fffd2e751bd1c4d706f27375911949ba6bb62e1c"
   }
  }
 },
 "nbformat": 4,
 "nbformat_minor": 2
}
